{
 "cells": [
  {
   "cell_type": "markdown",
   "metadata": {},
   "source": [
    "**Power management and fan speed control:**\n",
    "\n",
    "```bash\n",
    "sudo /usr/bin/jetson_clocks\n",
    "sudo sh -c 'echo 255 > /sys/devices/pwm-fan/target_pwm'\n",
    "sudo sh -c 'echo 0 > /sys/devices/pwm-fan/target_pwm' \n",
    "nvpmodel -q\n",
    "sudo nvpmodel -m 0\n",
    "```\n",
    "\n",
    "**install intel ac9260 wireless card:**\n",
    " (Ref: [install intel wireless 3165 driver for ubuntu 14.04.3](https://xargs.top/2016/01/14/ubuntu-14-04-3-install-intel-3165-network-adapter-driver/), \n",
    "[Intel 9260 adapter not working](https://devtalk.nvidia.com/default/topic/1039522/jetson-agx-xavier/intel-9260-adapter-not-working/3))\n",
    "\n",
    "\n",
    "\n",
    "```bash\n",
    "git clone https://git.kernel.org/pub/scm/linux/kernel/git/iwlwifi/backport-iwlwifi.git\n",
    "cd backport-iwlwifi/\n",
    "make defconfig-iwlwifi-public\n",
    "make -j4\n",
    "sudo make install\n",
    "ls /lib/firmware |grep 9260\n",
    "```"
   ]
  },
  {
   "cell_type": "markdown",
   "metadata": {},
   "source": []
  }
 ],
 "metadata": {
  "kernelspec": {
   "display_name": "Python 3",
   "language": "python",
   "name": "python3"
  },
  "language_info": {
   "codemirror_mode": {
    "name": "ipython",
    "version": 3
   },
   "file_extension": ".py",
   "mimetype": "text/x-python",
   "name": "python",
   "nbconvert_exporter": "python",
   "pygments_lexer": "ipython3",
   "version": "3.6.7"
  }
 },
 "nbformat": 4,
 "nbformat_minor": 2
}
