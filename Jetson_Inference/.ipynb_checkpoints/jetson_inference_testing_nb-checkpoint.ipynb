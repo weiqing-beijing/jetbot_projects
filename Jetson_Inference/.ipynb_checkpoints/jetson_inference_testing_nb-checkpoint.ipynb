{
 "cells": [
  {
   "cell_type": "markdown",
   "metadata": {},
   "source": [
    "<img src=\"https://github.com/dusty-nv/jetson-inference/raw/master/docs/images/deep-vision-header.jpg\">\n",
    "\n",
    "# Jetson Inference Learning\n",
    "\n",
    "1. Clone and build the [jetson inference package](https://github.com/dusty-nv/jetson-inference/blob/master/docs/building-repo-2.md).\n",
    "\n",
    "2. When modify the parameters(e.g. [Live Camera Detection](https://github.com/dusty-nv/jetson-inference/blob/master/docs/detectnet-camera-2.md))\n",
    ", need to rebuild the whole package per instruction [here](https://github.com/dusty-nv/jetson-inference/blob/master/docs/building-repo-2.md):\n",
    "```bash\n",
    "cd jetson-inference/build\t\t\t# omit if pwd is already /build from above\n",
    "$ make\n",
    "$ sudo make install\n",
    "```\n",
    "\n",
    "> **Note**: In my case I have a Logitec C922 camera which is shown as `/dev/video1` on my Jetson Nano. I changed line 39 of [detect-camera.cpp](https://github.com/dusty-nv/jetson-inference/blob/master/detectnet-camera/detectnet-camera.cpp) as,\n",
    "\n",
    "```c\n",
    "#define DEFAULT_CAMERA 1\n",
    "```\n",
    "> and rebuild the inference package in order to use Logitec C922 to do the demo."
   ]
  },
  {
   "cell_type": "code",
   "execution_count": null,
   "metadata": {},
   "outputs": [],
   "source": []
  }
 ],
 "metadata": {
  "kernelspec": {
   "display_name": "Python 3",
   "language": "python",
   "name": "python3"
  },
  "language_info": {
   "codemirror_mode": {
    "name": "ipython",
    "version": 3
   },
   "file_extension": ".py",
   "mimetype": "text/x-python",
   "name": "python",
   "nbconvert_exporter": "python",
   "pygments_lexer": "ipython3",
   "version": "3.6.7"
  }
 },
 "nbformat": 4,
 "nbformat_minor": 2
}
